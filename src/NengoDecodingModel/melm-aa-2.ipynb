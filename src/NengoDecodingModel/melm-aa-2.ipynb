{
 "cells": [
  {
   "cell_type": "markdown",
   "metadata": {},
   "source": [
    "#Initial Set Up\n"
   ]
  },
  {
   "cell_type": "code",
   "execution_count": 1,
   "metadata": {},
   "outputs": [],
   "source": [
    "import nengo\n",
    "import numpy as np\n",
    "import pandas as pd\n",
    "from nengo.ensemble import Ensemble\n",
    "from nengo.connection import Connection\n",
    "from nengo.node import Node\n",
    "import matplotlib.pyplot as plt"
   ]
  },
  {
   "cell_type": "code",
   "execution_count": 2,
   "metadata": {},
   "outputs": [
    {
     "name": "stdout",
     "output_type": "stream",
     "text": [
      "['Unnamed: 0', 'Timestamp', 'Neuron1', 'Neuron2', 'Neuron3', 'Neuron4', 'Neuron5', 'Neuron6', 'Neuron7', 'Neuron8', 'Neuron9', 'Neuron10', 'Neuron11', 'Neuron12', 'Neuron13', 'Neuron14', 'Neuron15', 'Neuron16', 'Neuron17', 'Neuron18', 'Neuron19', 'Neuron20', 'Neuron21', 'Neuron22', 'Neuron23', 'Neuron24', 'Neuron25', 'Neuron26', 'Neuron27', 'Neuron28', 'Neuron29', 'Neuron30', 'Neuron31', 'Neuron32', 'Neuron33', 'Neuron34', 'Neuron35', 'Neuron36', 'Neuron37', 'Neuron38', 'Neuron39', 'Neuron40', 'Neuron41', 'Neuron42', 'Neuron43', 'Neuron44', 'Neuron45', 'Neuron46', 'Neuron47', 'Neuron48', 'Neuron49', 'x_velocity', 'y_velocity', 'x_acceleration', 'y_acceleration']\n",
      "0           1.000\n",
      "1           1.001\n",
      "2           1.002\n",
      "3           1.003\n",
      "4           1.004\n",
      "           ...   \n",
      "800996    801.996\n",
      "800997    801.997\n",
      "800998    801.998\n",
      "800999    801.999\n",
      "801000    802.000\n",
      "Name: Timestamp, Length: 801001, dtype: float64\n"
     ]
    }
   ],
   "source": [
    "# Change 'monkey' variable to the desired monkey dataset: MM_S1, MT_S1, MT_S2, MT_S3\n",
    "monkey = \"MM_S2\"\n",
    "\n",
    "# Datapath to get the raw data file (Stored in DataExtraction)\n",
    "datafile_path = \"./../../Data Extraction/Extracted Data/MT_S1_raw.csv\"      # r\"..\\\\..\\\\Data Extraction\\\\Extracted Data\\\\\"+monkey+\"_raw.csv\"\n",
    "\n",
    "df = pd.read_csv(datafile_path)\n",
    "\n",
    "headers = df.columns.tolist()\n",
    "n_neurons = sum(\"Neuron\" in string for string in headers)\n",
    "print(headers)\n",
    "\n",
    "# getting the activity matrix\n",
    "neuron_columns = [col for col in df.columns if col.startswith('Neuron')]\n",
    "activity_matrix = df[neuron_columns]\n",
    "\n",
    "# velocity data\n",
    "velocity_matrix = df[[\"x_velocity\", \"y_velocity\"]]\n",
    "# acceleration data\n",
    "acceleration_matrix = df[[\"x_acceleration\", \"y_acceleration\"]]\n",
    "\n",
    "# transpose the data\n",
    "activity_matrix_t = activity_matrix.transpose().to_numpy()\n",
    "velocity_matrix_t = velocity_matrix.transpose().to_numpy()\n",
    "acceleration_matrix_t = acceleration_matrix.transpose().to_numpy()\n",
    "\n",
    "print(df[\"Timestamp\"])"
   ]
  }
 ],
 "metadata": {
  "kernelspec": {
   "display_name": "venv",
   "language": "python",
   "name": "python3"
  },
  "language_info": {
   "codemirror_mode": {
    "name": "ipython",
    "version": 3
   },
   "file_extension": ".py",
   "mimetype": "text/x-python",
   "name": "python",
   "nbconvert_exporter": "python",
   "pygments_lexer": "ipython3",
   "version": "3.11.4"
  }
 },
 "nbformat": 4,
 "nbformat_minor": 2
}
