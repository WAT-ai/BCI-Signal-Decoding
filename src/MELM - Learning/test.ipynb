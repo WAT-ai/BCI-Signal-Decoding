{
 "cells": [
  {
   "cell_type": "code",
   "execution_count": 1,
   "metadata": {},
   "outputs": [],
   "source": [
    "# Important libraries\n",
    "import numpy as np\n",
    "import pandas as pd\n",
    "import matplotlib.pyplot as plt\n",
    "import scipy.io as sio"
   ]
  },
  {
   "cell_type": "code",
   "execution_count": 2,
   "metadata": {},
   "outputs": [],
   "source": [
    "mat_contents = sio.loadmat(r\"..\\\\..\\\\Data Extraction\\\\MT_S1_raw.mat\")"
   ]
  },
  {
   "cell_type": "code",
   "execution_count": 3,
   "metadata": {},
   "outputs": [
    {
     "data": {
      "text/plain": [
       "['PMd', '__globals__', '__header__', '__version__', 'cont', 'trial_table']"
      ]
     },
     "execution_count": 3,
     "metadata": {},
     "output_type": "execute_result"
    }
   ],
   "source": [
    "sorted(mat_contents.keys())"
   ]
  },
  {
   "cell_type": "code",
   "execution_count": 4,
   "metadata": {},
   "outputs": [],
   "source": [
    "acceleration_data = mat_contents[\"cont\"][\"acc\"].item()\n",
    "position_data = mat_contents[\"cont\"][\"pos\"].item()\n",
    "vel_data = mat_contents[\"cont\"][\"vel\"].item()\n",
    "timepoints_data = mat_contents[\"cont\"][\"t\"].item().squeeze()"
   ]
  },
  {
   "cell_type": "code",
   "execution_count": 5,
   "metadata": {},
   "outputs": [
    {
     "name": "stdout",
     "output_type": "stream",
     "text": [
      "49\n"
     ]
    }
   ],
   "source": [
    "spiking_timepoints = mat_contents[\"PMd\"][\"units\"].item()[\"ts\"].squeeze()\n",
    "n_neurons = len(spiking_timepoints)\n",
    "print(n_neurons)"
   ]
  },
  {
   "cell_type": "code",
   "execution_count": 8,
   "metadata": {},
   "outputs": [
    {
     "data": {
      "text/plain": [
       "array([2.89000000e-02, 5.01000000e-02, 1.07800000e-01, ...,\n",
       "       8.04638733e+02, 8.04648133e+02, 8.04741400e+02])"
      ]
     },
     "execution_count": 8,
     "metadata": {},
     "output_type": "execute_result"
    }
   ],
   "source": [
    "spiking_timepoints[0].squeeze()"
   ]
  },
  {
   "cell_type": "markdown",
   "metadata": {},
   "source": [
    "# Binning neural Data (0.001s -> 0.01s)"
   ]
  },
  {
   "cell_type": "code",
   "execution_count": 9,
   "metadata": {},
   "outputs": [],
   "source": [
    "start_time = timepoints_data[0] \n",
    "end_time = timepoints_data[-1]\n",
    "bin_size = 0.01\n",
    "\n",
    "edges=np.arange(start_time, end_time, bin_size) #Get edges of time bins\n",
    "num_bins= edges.shape[0]-1 #Number of bins\n",
    "\n",
    "neural_data=np.empty([num_bins, n_neurons]) #Initialize array for binned neural data\n",
    "\n",
    "#Count number of spikes in each bin for each neuron, and put in array\n",
    "for i in range(n_neurons):\n",
    "    neural_data[:,i]=np.histogram(spiking_timepoints[i].squeeze(), edges)[0]\n"
   ]
  },
  {
   "cell_type": "markdown",
   "metadata": {},
   "source": [
    "# Binning Acceleration Data (0.001s -> 0.01s)"
   ]
  },
  {
   "cell_type": "code",
   "execution_count": 10,
   "metadata": {},
   "outputs": [
    {
     "data": {
      "text/plain": [
       "(80099, 49)"
      ]
     },
     "execution_count": 10,
     "metadata": {},
     "output_type": "execute_result"
    }
   ],
   "source": [
    "neural_data.shape"
   ]
  },
  {
   "cell_type": "code",
   "execution_count": 11,
   "metadata": {},
   "outputs": [],
   "source": [
    "downsample_idxs = np.arange(0 , timepoints_data.shape[0], 10) #Get the idxs of values we are going to include after downsampling\n",
    "\n",
    "downsampled_acc = acceleration_data[downsample_idxs,:] #Get the downsampled outputs\n",
    "downsampled_time = timepoints_data[downsample_idxs] #Get the downsampled output times\n",
    "\n",
    "output_dim = 2  # Accelerations\n",
    "outputs_binned = np.empty([num_bins, output_dim]) #Initialize matrix of binned outputs\n",
    "\n",
    "#Loop through bins, and get the mean outputs in those bins\n",
    "for i in range(num_bins): #Loop through bins\n",
    "    \n",
    "        idxs=np.where( (downsampled_time>=edges[i]) & (downsampled_time<edges[i+1]) )[0] # Getting any time samples from [ edges[i], edges[i+1] )\n",
    "        \n",
    "        for j in range(output_dim): #Loop through output features\n",
    "            \n",
    "            if len(idxs)<=1:\n",
    "                outputs_binned[i,j] = downsampled_acc[i,j]\n",
    "            else:\n",
    "                outputs_binned[i,j] = np.mean(downsampled_acc[idxs,j])"
   ]
  },
  {
   "cell_type": "code",
   "execution_count": 12,
   "metadata": {},
   "outputs": [
    {
     "data": {
      "text/plain": [
       "(80099, 2)"
      ]
     },
     "execution_count": 12,
     "metadata": {},
     "output_type": "execute_result"
    }
   ],
   "source": [
    "outputs_binned.shape"
   ]
  },
  {
   "cell_type": "code",
   "execution_count": null,
   "metadata": {},
   "outputs": [],
   "source": []
  }
 ],
 "metadata": {
  "kernelspec": {
   "display_name": "env",
   "language": "python",
   "name": "python3"
  },
  "language_info": {
   "codemirror_mode": {
    "name": "ipython",
    "version": 3
   },
   "file_extension": ".py",
   "mimetype": "text/x-python",
   "name": "python",
   "nbconvert_exporter": "python",
   "pygments_lexer": "ipython3",
   "version": "3.10.11"
  }
 },
 "nbformat": 4,
 "nbformat_minor": 2
}
